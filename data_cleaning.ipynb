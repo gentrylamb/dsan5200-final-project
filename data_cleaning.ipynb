{
 "cells": [
  {
   "cell_type": "code",
   "execution_count": 7,
   "metadata": {
    "vscode": {
     "languageId": "r"
    }
   },
   "outputs": [],
   "source": [
    "library(tidyverse) |> suppressPackageStartupMessages() |> suppressWarnings()\n",
    "library(ggplot2) |> suppressPackageStartupMessages() |> suppressWarnings()"
   ]
  },
  {
   "cell_type": "code",
   "execution_count": 15,
   "metadata": {
    "vscode": {
     "languageId": "r"
    }
   },
   "outputs": [
    {
     "data": {
      "text/html": [
       "<table class=\"dataframe\">\n",
       "<caption>A data.frame: 6 × 4</caption>\n",
       "<thead>\n",
       "\t<tr><th></th><th scope=col>year</th><th scope=col>state_abbrev</th><th scope=col>overdose_death_rate</th><th scope=col>overdose_deaths</th></tr>\n",
       "\t<tr><th></th><th scope=col>&lt;int&gt;</th><th scope=col>&lt;chr&gt;</th><th scope=col>&lt;dbl&gt;</th><th scope=col>&lt;int&gt;</th></tr>\n",
       "</thead>\n",
       "<tbody>\n",
       "\t<tr><th scope=row>1</th><td>2022</td><td>AL</td><td>31.5</td><td> 1492</td></tr>\n",
       "\t<tr><th scope=row>2</th><td>2022</td><td>AK</td><td>34.3</td><td>  254</td></tr>\n",
       "\t<tr><th scope=row>3</th><td>2022</td><td>AZ</td><td>37.2</td><td> 2664</td></tr>\n",
       "\t<tr><th scope=row>4</th><td>2022</td><td>AR</td><td>21.7</td><td>  617</td></tr>\n",
       "\t<tr><th scope=row>5</th><td>2022</td><td>CA</td><td>26.9</td><td>10952</td></tr>\n",
       "\t<tr><th scope=row>6</th><td>2022</td><td>CO</td><td>29.8</td><td> 1811</td></tr>\n",
       "</tbody>\n",
       "</table>\n"
      ],
      "text/latex": [
       "A data.frame: 6 × 4\n",
       "\\begin{tabular}{r|llll}\n",
       "  & year & state\\_abbrev & overdose\\_death\\_rate & overdose\\_deaths\\\\\n",
       "  & <int> & <chr> & <dbl> & <int>\\\\\n",
       "\\hline\n",
       "\t1 & 2022 & AL & 31.5 &  1492\\\\\n",
       "\t2 & 2022 & AK & 34.3 &   254\\\\\n",
       "\t3 & 2022 & AZ & 37.2 &  2664\\\\\n",
       "\t4 & 2022 & AR & 21.7 &   617\\\\\n",
       "\t5 & 2022 & CA & 26.9 & 10952\\\\\n",
       "\t6 & 2022 & CO & 29.8 &  1811\\\\\n",
       "\\end{tabular}\n"
      ],
      "text/markdown": [
       "\n",
       "A data.frame: 6 × 4\n",
       "\n",
       "| <!--/--> | year &lt;int&gt; | state_abbrev &lt;chr&gt; | overdose_death_rate &lt;dbl&gt; | overdose_deaths &lt;int&gt; |\n",
       "|---|---|---|---|---|\n",
       "| 1 | 2022 | AL | 31.5 |  1492 |\n",
       "| 2 | 2022 | AK | 34.3 |   254 |\n",
       "| 3 | 2022 | AZ | 37.2 |  2664 |\n",
       "| 4 | 2022 | AR | 21.7 |   617 |\n",
       "| 5 | 2022 | CA | 26.9 | 10952 |\n",
       "| 6 | 2022 | CO | 29.8 |  1811 |\n",
       "\n"
      ],
      "text/plain": [
       "  year state_abbrev overdose_death_rate overdose_deaths\n",
       "1 2022 AL           31.5                 1492          \n",
       "2 2022 AK           34.3                  254          \n",
       "3 2022 AZ           37.2                 2664          \n",
       "4 2022 AR           21.7                  617          \n",
       "5 2022 CA           26.9                10952          \n",
       "6 2022 CO           29.8                 1811          "
      ]
     },
     "metadata": {},
     "output_type": "display_data"
    }
   ],
   "source": [
    "# Drug Overdose Mortality by State\n",
    "# https://www.cdc.gov/nchs/pressroom/sosmap/drug_poisoning_mortality/drug_poisoning.htm\n",
    "# The number of deaths per 100,000 total population.\n",
    "# 1999 - 2005 & 2014 - 2022\n",
    "\n",
    "overdose_deaths_df <- read.csv(\"data/data-table.csv\") |>\n",
    "  rename_with(tolower) |>\n",
    "  rename(\n",
    "    state_abbrev = state,\n",
    "    overdose_death_rate = rate,\n",
    "    overdose_deaths = deaths\n",
    "  ) |>\n",
    "  select(-url)\n",
    "\n",
    "head(overdose_deaths_df)"
   ]
  },
  {
   "cell_type": "code",
   "execution_count": 17,
   "metadata": {
    "vscode": {
     "languageId": "r"
    }
   },
   "outputs": [
    {
     "data": {
      "text/html": [
       "<table class=\"dataframe\">\n",
       "<caption>A data.frame: 6 × 6</caption>\n",
       "<thead>\n",
       "\t<tr><th></th><th scope=col>year</th><th scope=col>state_name</th><th scope=col>state_abbrev</th><th scope=col>state_fips</th><th scope=col>opioid_dispensing_rate</th><th scope=col>opioid_dispensing_bin</th></tr>\n",
       "\t<tr><th></th><th scope=col>&lt;int&gt;</th><th scope=col>&lt;chr&gt;</th><th scope=col>&lt;chr&gt;</th><th scope=col>&lt;int&gt;</th><th scope=col>&lt;dbl&gt;</th><th scope=col>&lt;chr&gt;</th></tr>\n",
       "</thead>\n",
       "<tbody>\n",
       "\t<tr><th scope=row>1</th><td>2019</td><td><span style=white-space:pre-wrap>Alabama   </span></td><td>AL</td><td>1</td><td>86.0</td><td><span style=white-space:pre-wrap>&gt;51.7      </span></td></tr>\n",
       "\t<tr><th scope=row>2</th><td>2019</td><td>Alaska    </td><td>AK</td><td>2</td><td>39.3</td><td>34.9 - 42.0</td></tr>\n",
       "\t<tr><th scope=row>3</th><td>2019</td><td>Arizona   </td><td>AZ</td><td>4</td><td>44.2</td><td>42.1 - 51.7</td></tr>\n",
       "\t<tr><th scope=row>4</th><td>2019</td><td><span style=white-space:pre-wrap>Arkansas  </span></td><td>AR</td><td>5</td><td>81.1</td><td><span style=white-space:pre-wrap>&gt;51.7      </span></td></tr>\n",
       "\t<tr><th scope=row>5</th><td>2019</td><td>California</td><td>CA</td><td>6</td><td>31.0</td><td><span style=white-space:pre-wrap>&lt;34.9      </span></td></tr>\n",
       "\t<tr><th scope=row>6</th><td>2019</td><td>Colorado  </td><td>CO</td><td>8</td><td>40.1</td><td>34.9 - 42.0</td></tr>\n",
       "</tbody>\n",
       "</table>\n"
      ],
      "text/latex": [
       "A data.frame: 6 × 6\n",
       "\\begin{tabular}{r|llllll}\n",
       "  & year & state\\_name & state\\_abbrev & state\\_fips & opioid\\_dispensing\\_rate & opioid\\_dispensing\\_bin\\\\\n",
       "  & <int> & <chr> & <chr> & <int> & <dbl> & <chr>\\\\\n",
       "\\hline\n",
       "\t1 & 2019 & Alabama    & AL & 1 & 86.0 & >51.7      \\\\\n",
       "\t2 & 2019 & Alaska     & AK & 2 & 39.3 & 34.9 - 42.0\\\\\n",
       "\t3 & 2019 & Arizona    & AZ & 4 & 44.2 & 42.1 - 51.7\\\\\n",
       "\t4 & 2019 & Arkansas   & AR & 5 & 81.1 & >51.7      \\\\\n",
       "\t5 & 2019 & California & CA & 6 & 31.0 & <34.9      \\\\\n",
       "\t6 & 2019 & Colorado   & CO & 8 & 40.1 & 34.9 - 42.0\\\\\n",
       "\\end{tabular}\n"
      ],
      "text/markdown": [
       "\n",
       "A data.frame: 6 × 6\n",
       "\n",
       "| <!--/--> | year &lt;int&gt; | state_name &lt;chr&gt; | state_abbrev &lt;chr&gt; | state_fips &lt;int&gt; | opioid_dispensing_rate &lt;dbl&gt; | opioid_dispensing_bin &lt;chr&gt; |\n",
       "|---|---|---|---|---|---|---|\n",
       "| 1 | 2019 | Alabama    | AL | 1 | 86.0 | &gt;51.7       |\n",
       "| 2 | 2019 | Alaska     | AK | 2 | 39.3 | 34.9 - 42.0 |\n",
       "| 3 | 2019 | Arizona    | AZ | 4 | 44.2 | 42.1 - 51.7 |\n",
       "| 4 | 2019 | Arkansas   | AR | 5 | 81.1 | &gt;51.7       |\n",
       "| 5 | 2019 | California | CA | 6 | 31.0 | &lt;34.9       |\n",
       "| 6 | 2019 | Colorado   | CO | 8 | 40.1 | 34.9 - 42.0 |\n",
       "\n"
      ],
      "text/plain": [
       "  year state_name state_abbrev state_fips opioid_dispensing_rate\n",
       "1 2019 Alabama    AL           1          86.0                  \n",
       "2 2019 Alaska     AK           2          39.3                  \n",
       "3 2019 Arizona    AZ           4          44.2                  \n",
       "4 2019 Arkansas   AR           5          81.1                  \n",
       "5 2019 California CA           6          31.0                  \n",
       "6 2019 Colorado   CO           8          40.1                  \n",
       "  opioid_dispensing_bin\n",
       "1 >51.7                \n",
       "2 34.9 - 42.0          \n",
       "3 42.1 - 51.7          \n",
       "4 >51.7                \n",
       "5 <34.9                \n",
       "6 34.9 - 42.0          "
      ]
     },
     "metadata": {},
     "output_type": "display_data"
    }
   ],
   "source": [
    "# State Opioid Dispensing Rates\n",
    "# https://www.cdc.gov/overdose-prevention/data-research/facts-stats/opioid-dispensing-rate-maps.html\n",
    "# The rate of opioid prescriptions dispensed per 100 persons\n",
    "# 2019 - 2023\n",
    "\n",
    "opiod_dispensing_df <- read.csv(\"data/State Opioid Dispensing Rates.csv\") |>\n",
    "\trename_with(tolower) |>\n",
    "  rename(\n",
    "    \topioid_dispensing_bin = opioid.dispensing.rate..per.100.persons.\n",
    "  ) \n",
    "\n",
    "head(opiod_dispensing_df)"
   ]
  },
  {
   "cell_type": "code",
   "execution_count": null,
   "metadata": {
    "vscode": {
     "languageId": "r"
    }
   },
   "outputs": [],
   "source": [
    "# U.S. Fentanyl and Cocaine Deaths\n",
    "# https://github.com/BuzzFeedNews/2018-05-fentanyl-and-cocaine-overdose-deaths/tree/master\n",
    "# The rate of opioid prescriptions dispensed per 100 persons\n",
    "# 2019 - 2023\n",
    "\n",
    "opiod_dispensing_df <- read.csv(\"data/State Opioid Dispensing Rates.csv\") |>\n",
    "\trename_with(tolower) |>\n",
    "  rename(\n",
    "    \topioid_dispensing_bin = opioid.dispensing.rate..per.100.persons.\n",
    "  ) \n",
    "\n",
    "head(opiod_dispensing_df)"
   ]
  },
  {
   "cell_type": "code",
   "execution_count": null,
   "metadata": {
    "vscode": {
     "languageId": "r"
    }
   },
   "outputs": [],
   "source": []
  },
  {
   "cell_type": "code",
   "execution_count": null,
   "metadata": {
    "vscode": {
     "languageId": "r"
    }
   },
   "outputs": [],
   "source": []
  }
 ],
 "metadata": {
  "kernelspec": {
   "display_name": "R",
   "language": "R",
   "name": "ir"
  },
  "language_info": {
   "codemirror_mode": "r",
   "file_extension": ".r",
   "mimetype": "text/x-r-source",
   "name": "R",
   "pygments_lexer": "r",
   "version": "4.4.2"
  }
 },
 "nbformat": 4,
 "nbformat_minor": 2
}
