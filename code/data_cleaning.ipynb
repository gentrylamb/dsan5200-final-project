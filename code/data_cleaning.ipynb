{
 "cells": [
  {
   "cell_type": "code",
   "execution_count": 28,
   "metadata": {
    "vscode": {
     "languageId": "r"
    }
   },
   "outputs": [],
   "source": [
    "library(tidyverse) |> suppressPackageStartupMessages() |> suppressWarnings()\n",
    "library(ggplot2) |> suppressPackageStartupMessages() |> suppressWarnings()"
   ]
  },
  {
   "cell_type": "code",
   "execution_count": 29,
   "metadata": {
    "vscode": {
     "languageId": "r"
    }
   },
   "outputs": [
    {
     "data": {
      "text/html": [
       "<style>\n",
       ".list-inline {list-style: none; margin:0; padding: 0}\n",
       ".list-inline>li {display: inline-block}\n",
       ".list-inline>li:not(:last-child)::after {content: \"\\00b7\"; padding: 0 .5ex}\n",
       "</style>\n",
       "<ol class=list-inline><li>551</li><li>4</li></ol>\n"
      ],
      "text/latex": [
       "\\begin{enumerate*}\n",
       "\\item 551\n",
       "\\item 4\n",
       "\\end{enumerate*}\n"
      ],
      "text/markdown": [
       "1. 551\n",
       "2. 4\n",
       "\n",
       "\n"
      ],
      "text/plain": [
       "[1] 551   4"
      ]
     },
     "metadata": {},
     "output_type": "display_data"
    },
    {
     "data": {
      "text/html": [
       "<table class=\"dataframe\">\n",
       "<caption>A data.frame: 6 × 4</caption>\n",
       "<thead>\n",
       "\t<tr><th></th><th scope=col>year</th><th scope=col>state_abbrev</th><th scope=col>overdose_death_rate</th><th scope=col>overdose_deaths</th></tr>\n",
       "\t<tr><th></th><th scope=col>&lt;int&gt;</th><th scope=col>&lt;chr&gt;</th><th scope=col>&lt;dbl&gt;</th><th scope=col>&lt;int&gt;</th></tr>\n",
       "</thead>\n",
       "<tbody>\n",
       "\t<tr><th scope=row>1</th><td>2022</td><td>AL</td><td>31.5</td><td> 1492</td></tr>\n",
       "\t<tr><th scope=row>2</th><td>2022</td><td>AK</td><td>34.3</td><td>  254</td></tr>\n",
       "\t<tr><th scope=row>3</th><td>2022</td><td>AZ</td><td>37.2</td><td> 2664</td></tr>\n",
       "\t<tr><th scope=row>4</th><td>2022</td><td>AR</td><td>21.7</td><td>  617</td></tr>\n",
       "\t<tr><th scope=row>5</th><td>2022</td><td>CA</td><td>26.9</td><td>10952</td></tr>\n",
       "\t<tr><th scope=row>6</th><td>2022</td><td>CO</td><td>29.8</td><td> 1811</td></tr>\n",
       "</tbody>\n",
       "</table>\n"
      ],
      "text/latex": [
       "A data.frame: 6 × 4\n",
       "\\begin{tabular}{r|llll}\n",
       "  & year & state\\_abbrev & overdose\\_death\\_rate & overdose\\_deaths\\\\\n",
       "  & <int> & <chr> & <dbl> & <int>\\\\\n",
       "\\hline\n",
       "\t1 & 2022 & AL & 31.5 &  1492\\\\\n",
       "\t2 & 2022 & AK & 34.3 &   254\\\\\n",
       "\t3 & 2022 & AZ & 37.2 &  2664\\\\\n",
       "\t4 & 2022 & AR & 21.7 &   617\\\\\n",
       "\t5 & 2022 & CA & 26.9 & 10952\\\\\n",
       "\t6 & 2022 & CO & 29.8 &  1811\\\\\n",
       "\\end{tabular}\n"
      ],
      "text/markdown": [
       "\n",
       "A data.frame: 6 × 4\n",
       "\n",
       "| <!--/--> | year &lt;int&gt; | state_abbrev &lt;chr&gt; | overdose_death_rate &lt;dbl&gt; | overdose_deaths &lt;int&gt; |\n",
       "|---|---|---|---|---|\n",
       "| 1 | 2022 | AL | 31.5 |  1492 |\n",
       "| 2 | 2022 | AK | 34.3 |   254 |\n",
       "| 3 | 2022 | AZ | 37.2 |  2664 |\n",
       "| 4 | 2022 | AR | 21.7 |   617 |\n",
       "| 5 | 2022 | CA | 26.9 | 10952 |\n",
       "| 6 | 2022 | CO | 29.8 |  1811 |\n",
       "\n"
      ],
      "text/plain": [
       "  year state_abbrev overdose_death_rate overdose_deaths\n",
       "1 2022 AL           31.5                 1492          \n",
       "2 2022 AK           34.3                  254          \n",
       "3 2022 AZ           37.2                 2664          \n",
       "4 2022 AR           21.7                  617          \n",
       "5 2022 CA           26.9                10952          \n",
       "6 2022 CO           29.8                 1811          "
      ]
     },
     "metadata": {},
     "output_type": "display_data"
    }
   ],
   "source": [
    "# Drug Overdose Mortality by State\n",
    "# https://www.cdc.gov/nchs/pressroom/sosmap/drug_poisoning_mortality/drug_poisoning.htm\n",
    "# The number of deaths per 100,000 total population.\n",
    "# 1999 - 2005 & 2014 - 2022\n",
    "\n",
    "# read in csv file\n",
    "overdose_deaths_df <- read.csv(\"../data/raw/drug-overdose-mortality-state.csv\") |>\n",
    "  # make all column names lowercase\n",
    "\trename_with(tolower) |>\n",
    "\t# rename specific columns\n",
    "  rename(\n",
    "    state_abbrev = state,\n",
    "    overdose_death_rate = rate,\n",
    "    overdose_deaths = deaths\n",
    "  ) |>\n",
    "\t# drop columns\n",
    "  select(-url)\n",
    "\n",
    "# display dimensions and first 6 rows\n",
    "dim(overdose_deaths_df)\n",
    "head(overdose_deaths_df)"
   ]
  },
  {
   "cell_type": "code",
   "execution_count": 30,
   "metadata": {
    "vscode": {
     "languageId": "r"
    }
   },
   "outputs": [
    {
     "data": {
      "text/html": [
       "<style>\n",
       ".list-inline {list-style: none; margin:0; padding: 0}\n",
       ".list-inline>li {display: inline-block}\n",
       ".list-inline>li:not(:last-child)::after {content: \"\\00b7\"; padding: 0 .5ex}\n",
       "</style>\n",
       "<ol class=list-inline><li>255</li><li>6</li></ol>\n"
      ],
      "text/latex": [
       "\\begin{enumerate*}\n",
       "\\item 255\n",
       "\\item 6\n",
       "\\end{enumerate*}\n"
      ],
      "text/markdown": [
       "1. 255\n",
       "2. 6\n",
       "\n",
       "\n"
      ],
      "text/plain": [
       "[1] 255   6"
      ]
     },
     "metadata": {},
     "output_type": "display_data"
    },
    {
     "data": {
      "text/html": [
       "<table class=\"dataframe\">\n",
       "<caption>A data.frame: 6 × 6</caption>\n",
       "<thead>\n",
       "\t<tr><th></th><th scope=col>year</th><th scope=col>state_name</th><th scope=col>state_abbrev</th><th scope=col>state_fips</th><th scope=col>opioid_dispensing_rate</th><th scope=col>opioid_dispensing_bin</th></tr>\n",
       "\t<tr><th></th><th scope=col>&lt;int&gt;</th><th scope=col>&lt;chr&gt;</th><th scope=col>&lt;chr&gt;</th><th scope=col>&lt;int&gt;</th><th scope=col>&lt;dbl&gt;</th><th scope=col>&lt;chr&gt;</th></tr>\n",
       "</thead>\n",
       "<tbody>\n",
       "\t<tr><th scope=row>1</th><td>2019</td><td><span style=white-space:pre-wrap>Alabama   </span></td><td>AL</td><td>1</td><td>86.0</td><td><span style=white-space:pre-wrap>&gt;51.7      </span></td></tr>\n",
       "\t<tr><th scope=row>2</th><td>2019</td><td>Alaska    </td><td>AK</td><td>2</td><td>39.3</td><td>34.9 - 42.0</td></tr>\n",
       "\t<tr><th scope=row>3</th><td>2019</td><td>Arizona   </td><td>AZ</td><td>4</td><td>44.2</td><td>42.1 - 51.7</td></tr>\n",
       "\t<tr><th scope=row>4</th><td>2019</td><td><span style=white-space:pre-wrap>Arkansas  </span></td><td>AR</td><td>5</td><td>81.1</td><td><span style=white-space:pre-wrap>&gt;51.7      </span></td></tr>\n",
       "\t<tr><th scope=row>5</th><td>2019</td><td>California</td><td>CA</td><td>6</td><td>31.0</td><td><span style=white-space:pre-wrap>&lt;34.9      </span></td></tr>\n",
       "\t<tr><th scope=row>6</th><td>2019</td><td>Colorado  </td><td>CO</td><td>8</td><td>40.1</td><td>34.9 - 42.0</td></tr>\n",
       "</tbody>\n",
       "</table>\n"
      ],
      "text/latex": [
       "A data.frame: 6 × 6\n",
       "\\begin{tabular}{r|llllll}\n",
       "  & year & state\\_name & state\\_abbrev & state\\_fips & opioid\\_dispensing\\_rate & opioid\\_dispensing\\_bin\\\\\n",
       "  & <int> & <chr> & <chr> & <int> & <dbl> & <chr>\\\\\n",
       "\\hline\n",
       "\t1 & 2019 & Alabama    & AL & 1 & 86.0 & >51.7      \\\\\n",
       "\t2 & 2019 & Alaska     & AK & 2 & 39.3 & 34.9 - 42.0\\\\\n",
       "\t3 & 2019 & Arizona    & AZ & 4 & 44.2 & 42.1 - 51.7\\\\\n",
       "\t4 & 2019 & Arkansas   & AR & 5 & 81.1 & >51.7      \\\\\n",
       "\t5 & 2019 & California & CA & 6 & 31.0 & <34.9      \\\\\n",
       "\t6 & 2019 & Colorado   & CO & 8 & 40.1 & 34.9 - 42.0\\\\\n",
       "\\end{tabular}\n"
      ],
      "text/markdown": [
       "\n",
       "A data.frame: 6 × 6\n",
       "\n",
       "| <!--/--> | year &lt;int&gt; | state_name &lt;chr&gt; | state_abbrev &lt;chr&gt; | state_fips &lt;int&gt; | opioid_dispensing_rate &lt;dbl&gt; | opioid_dispensing_bin &lt;chr&gt; |\n",
       "|---|---|---|---|---|---|---|\n",
       "| 1 | 2019 | Alabama    | AL | 1 | 86.0 | &gt;51.7       |\n",
       "| 2 | 2019 | Alaska     | AK | 2 | 39.3 | 34.9 - 42.0 |\n",
       "| 3 | 2019 | Arizona    | AZ | 4 | 44.2 | 42.1 - 51.7 |\n",
       "| 4 | 2019 | Arkansas   | AR | 5 | 81.1 | &gt;51.7       |\n",
       "| 5 | 2019 | California | CA | 6 | 31.0 | &lt;34.9       |\n",
       "| 6 | 2019 | Colorado   | CO | 8 | 40.1 | 34.9 - 42.0 |\n",
       "\n"
      ],
      "text/plain": [
       "  year state_name state_abbrev state_fips opioid_dispensing_rate\n",
       "1 2019 Alabama    AL           1          86.0                  \n",
       "2 2019 Alaska     AK           2          39.3                  \n",
       "3 2019 Arizona    AZ           4          44.2                  \n",
       "4 2019 Arkansas   AR           5          81.1                  \n",
       "5 2019 California CA           6          31.0                  \n",
       "6 2019 Colorado   CO           8          40.1                  \n",
       "  opioid_dispensing_bin\n",
       "1 >51.7                \n",
       "2 34.9 - 42.0          \n",
       "3 42.1 - 51.7          \n",
       "4 >51.7                \n",
       "5 <34.9                \n",
       "6 34.9 - 42.0          "
      ]
     },
     "metadata": {},
     "output_type": "display_data"
    }
   ],
   "source": [
    "# State Opioid Dispensing Rates\n",
    "# https://www.cdc.gov/overdose-prevention/data-research/facts-stats/opioid-dispensing-rate-maps.html\n",
    "# The rate of opioid prescriptions dispensed per 100 persons\n",
    "# 2019 - 2023\n",
    "\n",
    "# read in csv file\n",
    "opioid_dispensing_df <- read.csv(\"../data/raw/state-opioid-dispensing-rates.csv\") |>\n",
    "\t# make all column names lowercase\n",
    "\trename_with(tolower) |>\n",
    "\t# rename specific columns\n",
    "  rename(\n",
    "\t\topioid_dispensing_bin = opioid.dispensing.rate..per.100.persons.\n",
    "  )\n",
    "\n",
    "# display dimensions and first 6 rows\n",
    "dim(opioid_dispensing_df)\n",
    "head(opioid_dispensing_df)"
   ]
  },
  {
   "cell_type": "code",
   "execution_count": 31,
   "metadata": {
    "vscode": {
     "languageId": "r"
    }
   },
   "outputs": [
    {
     "data": {
      "text/html": [
       "<style>\n",
       ".list-inline {list-style: none; margin:0; padding: 0}\n",
       ".list-inline>li {display: inline-block}\n",
       ".list-inline>li:not(:last-child)::after {content: \"\\00b7\"; padding: 0 .5ex}\n",
       "</style>\n",
       "<ol class=list-inline><li>69738</li><li>11</li></ol>\n"
      ],
      "text/latex": [
       "\\begin{enumerate*}\n",
       "\\item 69738\n",
       "\\item 11\n",
       "\\end{enumerate*}\n"
      ],
      "text/markdown": [
       "1. 69738\n",
       "2. 11\n",
       "\n",
       "\n"
      ],
      "text/plain": [
       "[1] 69738    11"
      ]
     },
     "metadata": {},
     "output_type": "display_data"
    },
    {
     "data": {
      "text/html": [
       "<table class=\"dataframe\">\n",
       "<caption>A data.frame: 6 × 11</caption>\n",
       "<thead>\n",
       "\t<tr><th></th><th scope=col>state_abbrev</th><th scope=col>year</th><th scope=col>month</th><th scope=col>period</th><th scope=col>indicator</th><th scope=col>indicator_value</th><th scope=col>percent.complete</th><th scope=col>percent.pending.investigation</th><th scope=col>state_name</th><th scope=col>footnote</th><th scope=col>predicted.value</th></tr>\n",
       "\t<tr><th></th><th scope=col>&lt;chr&gt;</th><th scope=col>&lt;int&gt;</th><th scope=col>&lt;chr&gt;</th><th scope=col>&lt;chr&gt;</th><th scope=col>&lt;chr&gt;</th><th scope=col>&lt;chr&gt;</th><th scope=col>&lt;dbl&gt;</th><th scope=col>&lt;dbl&gt;</th><th scope=col>&lt;chr&gt;</th><th scope=col>&lt;chr&gt;</th><th scope=col>&lt;chr&gt;</th></tr>\n",
       "</thead>\n",
       "<tbody>\n",
       "\t<tr><th scope=row>1</th><td>AK</td><td>2015</td><td>April</td><td>12 month-ending</td><td><span style=white-space:pre-wrap>Natural &amp; semi-synthetic opioids (T40.2)     </span></td><td><span style=white-space:pre-wrap>          </span></td><td>100</td><td>0</td><td>Alaska</td><td><span style=white-space:pre-wrap>Numbers may differ from published reports using final data. See Technical Notes.  Data not shown due to low data quality.</span></td><td></td></tr>\n",
       "\t<tr><th scope=row>2</th><td>AK</td><td>2015</td><td>April</td><td>12 month-ending</td><td>Percent with drugs specified                 </td><td>88.0952381</td><td>100</td><td>0</td><td>Alaska</td><td>Numbers may differ from published reports using final data. See Technical Notes.                                         </td><td></td></tr>\n",
       "\t<tr><th scope=row>3</th><td>AK</td><td>2015</td><td>April</td><td>12 month-ending</td><td>Number of Deaths                             </td><td>4,133     </td><td>100</td><td>0</td><td>Alaska</td><td>Numbers may differ from published reports using final data. See Technical Notes.                                         </td><td></td></tr>\n",
       "\t<tr><th scope=row>4</th><td>AK</td><td>2015</td><td>April</td><td>12 month-ending</td><td>Cocaine (T40.5)                              </td><td>          </td><td>100</td><td>0</td><td>Alaska</td><td>Numbers may differ from published reports using final data. See Technical Notes.  Data not shown due to low data quality.</td><td></td></tr>\n",
       "\t<tr><th scope=row>5</th><td>AK</td><td>2015</td><td>April</td><td>12 month-ending</td><td>Psychostimulants with abuse potential (T43.6)</td><td>          </td><td>100</td><td>0</td><td>Alaska</td><td>Numbers may differ from published reports using final data. See Technical Notes.  Data not shown due to low data quality.</td><td></td></tr>\n",
       "\t<tr><th scope=row>6</th><td>AK</td><td>2015</td><td>April</td><td>12 month-ending</td><td>Synthetic opioids, excl. methadone (T40.4)   </td><td>          </td><td>100</td><td>0</td><td>Alaska</td><td>Numbers may differ from published reports using final data. See Technical Notes.  Data not shown due to low data quality.</td><td></td></tr>\n",
       "</tbody>\n",
       "</table>\n"
      ],
      "text/latex": [
       "A data.frame: 6 × 11\n",
       "\\begin{tabular}{r|lllllllllll}\n",
       "  & state\\_abbrev & year & month & period & indicator & indicator\\_value & percent.complete & percent.pending.investigation & state\\_name & footnote & predicted.value\\\\\n",
       "  & <chr> & <int> & <chr> & <chr> & <chr> & <chr> & <dbl> & <dbl> & <chr> & <chr> & <chr>\\\\\n",
       "\\hline\n",
       "\t1 & AK & 2015 & April & 12 month-ending & Natural \\& semi-synthetic opioids (T40.2)      &            & 100 & 0 & Alaska & Numbers may differ from published reports using final data. See Technical Notes.  Data not shown due to low data quality. & \\\\\n",
       "\t2 & AK & 2015 & April & 12 month-ending & Percent with drugs specified                  & 88.0952381 & 100 & 0 & Alaska & Numbers may differ from published reports using final data. See Technical Notes.                                          & \\\\\n",
       "\t3 & AK & 2015 & April & 12 month-ending & Number of Deaths                              & 4,133      & 100 & 0 & Alaska & Numbers may differ from published reports using final data. See Technical Notes.                                          & \\\\\n",
       "\t4 & AK & 2015 & April & 12 month-ending & Cocaine (T40.5)                               &            & 100 & 0 & Alaska & Numbers may differ from published reports using final data. See Technical Notes.  Data not shown due to low data quality. & \\\\\n",
       "\t5 & AK & 2015 & April & 12 month-ending & Psychostimulants with abuse potential (T43.6) &            & 100 & 0 & Alaska & Numbers may differ from published reports using final data. See Technical Notes.  Data not shown due to low data quality. & \\\\\n",
       "\t6 & AK & 2015 & April & 12 month-ending & Synthetic opioids, excl. methadone (T40.4)    &            & 100 & 0 & Alaska & Numbers may differ from published reports using final data. See Technical Notes.  Data not shown due to low data quality. & \\\\\n",
       "\\end{tabular}\n"
      ],
      "text/markdown": [
       "\n",
       "A data.frame: 6 × 11\n",
       "\n",
       "| <!--/--> | state_abbrev &lt;chr&gt; | year &lt;int&gt; | month &lt;chr&gt; | period &lt;chr&gt; | indicator &lt;chr&gt; | indicator_value &lt;chr&gt; | percent.complete &lt;dbl&gt; | percent.pending.investigation &lt;dbl&gt; | state_name &lt;chr&gt; | footnote &lt;chr&gt; | predicted.value &lt;chr&gt; |\n",
       "|---|---|---|---|---|---|---|---|---|---|---|---|\n",
       "| 1 | AK | 2015 | April | 12 month-ending | Natural &amp; semi-synthetic opioids (T40.2)      | <!----> | 100 | 0 | Alaska | Numbers may differ from published reports using final data. See Technical Notes.  Data not shown due to low data quality. | <!----> |\n",
       "| 2 | AK | 2015 | April | 12 month-ending | Percent with drugs specified                  | 88.0952381 | 100 | 0 | Alaska | Numbers may differ from published reports using final data. See Technical Notes.                                          | <!----> |\n",
       "| 3 | AK | 2015 | April | 12 month-ending | Number of Deaths                              | 4,133      | 100 | 0 | Alaska | Numbers may differ from published reports using final data. See Technical Notes.                                          | <!----> |\n",
       "| 4 | AK | 2015 | April | 12 month-ending | Cocaine (T40.5)                               | <!----> | 100 | 0 | Alaska | Numbers may differ from published reports using final data. See Technical Notes.  Data not shown due to low data quality. | <!----> |\n",
       "| 5 | AK | 2015 | April | 12 month-ending | Psychostimulants with abuse potential (T43.6) | <!----> | 100 | 0 | Alaska | Numbers may differ from published reports using final data. See Technical Notes.  Data not shown due to low data quality. | <!----> |\n",
       "| 6 | AK | 2015 | April | 12 month-ending | Synthetic opioids, excl. methadone (T40.4)    | <!----> | 100 | 0 | Alaska | Numbers may differ from published reports using final data. See Technical Notes.  Data not shown due to low data quality. | <!----> |\n",
       "\n"
      ],
      "text/plain": [
       "  state_abbrev year month period         \n",
       "1 AK           2015 April 12 month-ending\n",
       "2 AK           2015 April 12 month-ending\n",
       "3 AK           2015 April 12 month-ending\n",
       "4 AK           2015 April 12 month-ending\n",
       "5 AK           2015 April 12 month-ending\n",
       "6 AK           2015 April 12 month-ending\n",
       "  indicator                                     indicator_value\n",
       "1 Natural & semi-synthetic opioids (T40.2)                     \n",
       "2 Percent with drugs specified                  88.0952381     \n",
       "3 Number of Deaths                              4,133          \n",
       "4 Cocaine (T40.5)                                              \n",
       "5 Psychostimulants with abuse potential (T43.6)                \n",
       "6 Synthetic opioids, excl. methadone (T40.4)                   \n",
       "  percent.complete percent.pending.investigation state_name\n",
       "1 100              0                             Alaska    \n",
       "2 100              0                             Alaska    \n",
       "3 100              0                             Alaska    \n",
       "4 100              0                             Alaska    \n",
       "5 100              0                             Alaska    \n",
       "6 100              0                             Alaska    \n",
       "  footnote                                                                                                                 \n",
       "1 Numbers may differ from published reports using final data. See Technical Notes.  Data not shown due to low data quality.\n",
       "2 Numbers may differ from published reports using final data. See Technical Notes.                                         \n",
       "3 Numbers may differ from published reports using final data. See Technical Notes.                                         \n",
       "4 Numbers may differ from published reports using final data. See Technical Notes.  Data not shown due to low data quality.\n",
       "5 Numbers may differ from published reports using final data. See Technical Notes.  Data not shown due to low data quality.\n",
       "6 Numbers may differ from published reports using final data. See Technical Notes.  Data not shown due to low data quality.\n",
       "  predicted.value\n",
       "1                \n",
       "2                \n",
       "3                \n",
       "4                \n",
       "5                \n",
       "6                "
      ]
     },
     "metadata": {},
     "output_type": "display_data"
    }
   ],
   "source": [
    "# U.S. 12 Month-ending Provisional Number of Drug Overdose Deaths by Drug or Drug Class\n",
    "# https://www.cdc.gov/nchs/nvss/vsrr/drug-overdose-data.htm\n",
    "# provisional counts for drug overdose deaths based on a current flow of mortality data in the National Vital Statistics System.\n",
    "# 2015 - 2024\n",
    "\n",
    "# read in csv file\n",
    "provisional_drug_overdose_deaths <- read.csv(\"../data/raw/provisional-drug-overdose-death-dounts.csv\") |>\n",
    "\t# make all column names lowercase\n",
    "\trename_with(tolower) |>\n",
    "\t# rename specific columns\n",
    "  rename(\n",
    "\t\tstate_name = state.name,\n",
    "\t\tstate_abbrev = state,\n",
    "\t\tindicator_value = data.value\n",
    "  ) |>\n",
    "\t# drop columns\n",
    "\tselect(-footnote.symbol)\n",
    "\n",
    "# display dimensions and first 6 rows\n",
    "dim(provisional_drug_overdose_deaths)\n",
    "head(provisional_drug_overdose_deaths)"
   ]
  },
  {
   "cell_type": "code",
   "execution_count": 32,
   "metadata": {
    "vscode": {
     "languageId": "r"
    }
   },
   "outputs": [
    {
     "data": {
      "text/html": [
       "<style>\n",
       ".list-inline {list-style: none; margin:0; padding: 0}\n",
       ".list-inline>li {display: inline-block}\n",
       ".list-inline>li:not(:last-child)::after {content: \"\\00b7\"; padding: 0 .5ex}\n",
       "</style>\n",
       "<ol class=list-inline><li>51</li><li>41</li></ol>\n"
      ],
      "text/latex": [
       "\\begin{enumerate*}\n",
       "\\item 51\n",
       "\\item 41\n",
       "\\end{enumerate*}\n"
      ],
      "text/markdown": [
       "1. 51\n",
       "2. 41\n",
       "\n",
       "\n"
      ],
      "text/plain": [
       "[1] 51 41"
      ]
     },
     "metadata": {},
     "output_type": "display_data"
    },
    {
     "data": {
      "text/html": [
       "<table class=\"dataframe\">\n",
       "<caption>A data.frame: 6 × 41</caption>\n",
       "<thead>\n",
       "\t<tr><th></th><th scope=col>state_name</th><th scope=col>funds_received_dollars</th><th scope=col>funds_spent_dollars</th><th scope=col>funds_set_aside_dollars</th><th scope=col>funds_untrackable_dollars</th><th scope=col>committed_to_prevention_dollars</th><th scope=col>committed_to_prevention_percent</th><th scope=col>committed_to_treatment_dollars</th><th scope=col>committed_to_treatment_percent</th><th scope=col>committed_to_recovery_dollars</th><th scope=col>⋯</th><th scope=col>committed_to_incarcerated_treatment_dollars</th><th scope=col>committed_to_incarcerated_treatment_percent</th><th scope=col>committed_to_prevention_programs_dollars</th><th scope=col>committed_to_prevention_programs_percent</th><th scope=col>committed_to_syringe_programs_dollars</th><th scope=col>committed_to_syringe_programs_percent</th><th scope=col>committed_to_data_research_dollars</th><th scope=col>committed_to_data_research_percent</th><th scope=col>committed_to_other_dollars</th><th scope=col>committed_to_other_percent</th></tr>\n",
       "\t<tr><th></th><th scope=col>&lt;chr&gt;</th><th scope=col>&lt;dbl&gt;</th><th scope=col>&lt;dbl&gt;</th><th scope=col>&lt;dbl&gt;</th><th scope=col>&lt;dbl&gt;</th><th scope=col>&lt;dbl&gt;</th><th scope=col>&lt;dbl&gt;</th><th scope=col>&lt;dbl&gt;</th><th scope=col>&lt;dbl&gt;</th><th scope=col>&lt;dbl&gt;</th><th scope=col>⋯</th><th scope=col>&lt;dbl&gt;</th><th scope=col>&lt;dbl&gt;</th><th scope=col>&lt;dbl&gt;</th><th scope=col>&lt;dbl&gt;</th><th scope=col>&lt;dbl&gt;</th><th scope=col>&lt;dbl&gt;</th><th scope=col>&lt;dbl&gt;</th><th scope=col>&lt;dbl&gt;</th><th scope=col>&lt;dbl&gt;</th><th scope=col>&lt;dbl&gt;</th></tr>\n",
       "</thead>\n",
       "<tbody>\n",
       "\t<tr><th scope=row>1</th><td>Alabama   </td><td>113362399</td><td> 10000000</td><td>        0</td><td>103362399.4</td><td>       0.0</td><td>0.0000</td><td> 1500000</td><td>0.1500</td><td>       0</td><td>⋯</td><td>1500000</td><td>0.1500</td><td>       0.0</td><td>0.0000</td><td>     0</td><td>0.0000</td><td>       0.0</td><td>0.0000</td><td> 8500000</td><td>0.8500</td></tr>\n",
       "\t<tr><th scope=row>2</th><td>Alaska    </td><td> 14812549</td><td>        0</td><td>        0</td><td> 14812549.2</td><td>       0.0</td><td>0.0000</td><td>       0</td><td>0.0000</td><td>       0</td><td>⋯</td><td>      0</td><td>0.0000</td><td>       0.0</td><td>0.0000</td><td>     0</td><td>0.0000</td><td>       0.0</td><td>0.0000</td><td>       0</td><td>0.0000</td></tr>\n",
       "\t<tr><th scope=row>3</th><td>Arizona   </td><td> 97348261</td><td> 30335276</td><td> 62821421</td><td>  4191565.2</td><td> 4366273.8</td><td>0.1439</td><td> 8881845</td><td>0.2928</td><td> 4174066</td><td>⋯</td><td>2500000</td><td>0.0824</td><td> 4366273.8</td><td>0.1439</td><td>     0</td><td>0.0000</td><td>       0.0</td><td>0.0000</td><td>12730540</td><td>0.4197</td></tr>\n",
       "\t<tr><th scope=row>4</th><td>Arkansas  </td><td> 67091275</td><td> 38067662</td><td>        0</td><td> 29023612.9</td><td>  516378.4</td><td>0.0136</td><td>11341038</td><td>0.2979</td><td>12005661</td><td>⋯</td><td>      0</td><td>0.0000</td><td>  516378.4</td><td>0.0136</td><td>     0</td><td>0.0000</td><td>10398087.0</td><td>0.2731</td><td>10917335</td><td>0.2868</td></tr>\n",
       "\t<tr><th scope=row>5</th><td>California</td><td>452452620</td><td>219825492</td><td>202810475</td><td> 29816652.8</td><td>43189311.3</td><td>0.1965</td><td>11236534</td><td>0.0511</td><td> 4657743</td><td>⋯</td><td>3537836</td><td>0.0161</td><td>43189311.3</td><td>0.1965</td><td>     0</td><td>0.0000</td><td> 5075240.3</td><td>0.0231</td><td>65282737</td><td>0.2970</td></tr>\n",
       "\t<tr><th scope=row>6</th><td>Colorado  </td><td> 61950666</td><td> 61778973</td><td>        0</td><td>   171692.7</td><td> 9395233.9</td><td>0.1521</td><td>18187436</td><td>0.2944</td><td>14440614</td><td>⋯</td><td>5125497</td><td>0.0830</td><td> 9395233.9</td><td>0.1521</td><td>830000</td><td>0.0134</td><td>  442465.2</td><td>0.0072</td><td>17874794</td><td>0.2893</td></tr>\n",
       "</tbody>\n",
       "</table>\n"
      ],
      "text/latex": [
       "A data.frame: 6 × 41\n",
       "\\begin{tabular}{r|lllllllllllllllllllll}\n",
       "  & state\\_name & funds\\_received\\_dollars & funds\\_spent\\_dollars & funds\\_set\\_aside\\_dollars & funds\\_untrackable\\_dollars & committed\\_to\\_prevention\\_dollars & committed\\_to\\_prevention\\_percent & committed\\_to\\_treatment\\_dollars & committed\\_to\\_treatment\\_percent & committed\\_to\\_recovery\\_dollars & ⋯ & committed\\_to\\_incarcerated\\_treatment\\_dollars & committed\\_to\\_incarcerated\\_treatment\\_percent & committed\\_to\\_prevention\\_programs\\_dollars & committed\\_to\\_prevention\\_programs\\_percent & committed\\_to\\_syringe\\_programs\\_dollars & committed\\_to\\_syringe\\_programs\\_percent & committed\\_to\\_data\\_research\\_dollars & committed\\_to\\_data\\_research\\_percent & committed\\_to\\_other\\_dollars & committed\\_to\\_other\\_percent\\\\\n",
       "  & <chr> & <dbl> & <dbl> & <dbl> & <dbl> & <dbl> & <dbl> & <dbl> & <dbl> & <dbl> & ⋯ & <dbl> & <dbl> & <dbl> & <dbl> & <dbl> & <dbl> & <dbl> & <dbl> & <dbl> & <dbl>\\\\\n",
       "\\hline\n",
       "\t1 & Alabama    & 113362399 &  10000000 &         0 & 103362399.4 &        0.0 & 0.0000 &  1500000 & 0.1500 &        0 & ⋯ & 1500000 & 0.1500 &        0.0 & 0.0000 &      0 & 0.0000 &        0.0 & 0.0000 &  8500000 & 0.8500\\\\\n",
       "\t2 & Alaska     &  14812549 &         0 &         0 &  14812549.2 &        0.0 & 0.0000 &        0 & 0.0000 &        0 & ⋯ &       0 & 0.0000 &        0.0 & 0.0000 &      0 & 0.0000 &        0.0 & 0.0000 &        0 & 0.0000\\\\\n",
       "\t3 & Arizona    &  97348261 &  30335276 &  62821421 &   4191565.2 &  4366273.8 & 0.1439 &  8881845 & 0.2928 &  4174066 & ⋯ & 2500000 & 0.0824 &  4366273.8 & 0.1439 &      0 & 0.0000 &        0.0 & 0.0000 & 12730540 & 0.4197\\\\\n",
       "\t4 & Arkansas   &  67091275 &  38067662 &         0 &  29023612.9 &   516378.4 & 0.0136 & 11341038 & 0.2979 & 12005661 & ⋯ &       0 & 0.0000 &   516378.4 & 0.0136 &      0 & 0.0000 & 10398087.0 & 0.2731 & 10917335 & 0.2868\\\\\n",
       "\t5 & California & 452452620 & 219825492 & 202810475 &  29816652.8 & 43189311.3 & 0.1965 & 11236534 & 0.0511 &  4657743 & ⋯ & 3537836 & 0.0161 & 43189311.3 & 0.1965 &      0 & 0.0000 &  5075240.3 & 0.0231 & 65282737 & 0.2970\\\\\n",
       "\t6 & Colorado   &  61950666 &  61778973 &         0 &    171692.7 &  9395233.9 & 0.1521 & 18187436 & 0.2944 & 14440614 & ⋯ & 5125497 & 0.0830 &  9395233.9 & 0.1521 & 830000 & 0.0134 &   442465.2 & 0.0072 & 17874794 & 0.2893\\\\\n",
       "\\end{tabular}\n"
      ],
      "text/markdown": [
       "\n",
       "A data.frame: 6 × 41\n",
       "\n",
       "| <!--/--> | state_name &lt;chr&gt; | funds_received_dollars &lt;dbl&gt; | funds_spent_dollars &lt;dbl&gt; | funds_set_aside_dollars &lt;dbl&gt; | funds_untrackable_dollars &lt;dbl&gt; | committed_to_prevention_dollars &lt;dbl&gt; | committed_to_prevention_percent &lt;dbl&gt; | committed_to_treatment_dollars &lt;dbl&gt; | committed_to_treatment_percent &lt;dbl&gt; | committed_to_recovery_dollars &lt;dbl&gt; | ⋯ ⋯ | committed_to_incarcerated_treatment_dollars &lt;dbl&gt; | committed_to_incarcerated_treatment_percent &lt;dbl&gt; | committed_to_prevention_programs_dollars &lt;dbl&gt; | committed_to_prevention_programs_percent &lt;dbl&gt; | committed_to_syringe_programs_dollars &lt;dbl&gt; | committed_to_syringe_programs_percent &lt;dbl&gt; | committed_to_data_research_dollars &lt;dbl&gt; | committed_to_data_research_percent &lt;dbl&gt; | committed_to_other_dollars &lt;dbl&gt; | committed_to_other_percent &lt;dbl&gt; |\n",
       "|---|---|---|---|---|---|---|---|---|---|---|---|---|---|---|---|---|---|---|---|---|---|\n",
       "| 1 | Alabama    | 113362399 |  10000000 |         0 | 103362399.4 |        0.0 | 0.0000 |  1500000 | 0.1500 |        0 | ⋯ | 1500000 | 0.1500 |        0.0 | 0.0000 |      0 | 0.0000 |        0.0 | 0.0000 |  8500000 | 0.8500 |\n",
       "| 2 | Alaska     |  14812549 |         0 |         0 |  14812549.2 |        0.0 | 0.0000 |        0 | 0.0000 |        0 | ⋯ |       0 | 0.0000 |        0.0 | 0.0000 |      0 | 0.0000 |        0.0 | 0.0000 |        0 | 0.0000 |\n",
       "| 3 | Arizona    |  97348261 |  30335276 |  62821421 |   4191565.2 |  4366273.8 | 0.1439 |  8881845 | 0.2928 |  4174066 | ⋯ | 2500000 | 0.0824 |  4366273.8 | 0.1439 |      0 | 0.0000 |        0.0 | 0.0000 | 12730540 | 0.4197 |\n",
       "| 4 | Arkansas   |  67091275 |  38067662 |         0 |  29023612.9 |   516378.4 | 0.0136 | 11341038 | 0.2979 | 12005661 | ⋯ |       0 | 0.0000 |   516378.4 | 0.0136 |      0 | 0.0000 | 10398087.0 | 0.2731 | 10917335 | 0.2868 |\n",
       "| 5 | California | 452452620 | 219825492 | 202810475 |  29816652.8 | 43189311.3 | 0.1965 | 11236534 | 0.0511 |  4657743 | ⋯ | 3537836 | 0.0161 | 43189311.3 | 0.1965 |      0 | 0.0000 |  5075240.3 | 0.0231 | 65282737 | 0.2970 |\n",
       "| 6 | Colorado   |  61950666 |  61778973 |         0 |    171692.7 |  9395233.9 | 0.1521 | 18187436 | 0.2944 | 14440614 | ⋯ | 5125497 | 0.0830 |  9395233.9 | 0.1521 | 830000 | 0.0134 |   442465.2 | 0.0072 | 17874794 | 0.2893 |\n",
       "\n"
      ],
      "text/plain": [
       "  state_name funds_received_dollars funds_spent_dollars funds_set_aside_dollars\n",
       "1 Alabama    113362399               10000000                   0              \n",
       "2 Alaska      14812549                      0                   0              \n",
       "3 Arizona     97348261               30335276            62821421              \n",
       "4 Arkansas    67091275               38067662                   0              \n",
       "5 California 452452620              219825492           202810475              \n",
       "6 Colorado    61950666               61778973                   0              \n",
       "  funds_untrackable_dollars committed_to_prevention_dollars\n",
       "1 103362399.4                      0.0                     \n",
       "2  14812549.2                      0.0                     \n",
       "3   4191565.2                4366273.8                     \n",
       "4  29023612.9                 516378.4                     \n",
       "5  29816652.8               43189311.3                     \n",
       "6    171692.7                9395233.9                     \n",
       "  committed_to_prevention_percent committed_to_treatment_dollars\n",
       "1 0.0000                           1500000                      \n",
       "2 0.0000                                 0                      \n",
       "3 0.1439                           8881845                      \n",
       "4 0.0136                          11341038                      \n",
       "5 0.1965                          11236534                      \n",
       "6 0.1521                          18187436                      \n",
       "  committed_to_treatment_percent committed_to_recovery_dollars ⋯\n",
       "1 0.1500                                0                      ⋯\n",
       "2 0.0000                                0                      ⋯\n",
       "3 0.2928                          4174066                      ⋯\n",
       "4 0.2979                         12005661                      ⋯\n",
       "5 0.0511                          4657743                      ⋯\n",
       "6 0.2944                         14440614                      ⋯\n",
       "  committed_to_incarcerated_treatment_dollars\n",
       "1 1500000                                    \n",
       "2       0                                    \n",
       "3 2500000                                    \n",
       "4       0                                    \n",
       "5 3537836                                    \n",
       "6 5125497                                    \n",
       "  committed_to_incarcerated_treatment_percent\n",
       "1 0.1500                                     \n",
       "2 0.0000                                     \n",
       "3 0.0824                                     \n",
       "4 0.0000                                     \n",
       "5 0.0161                                     \n",
       "6 0.0830                                     \n",
       "  committed_to_prevention_programs_dollars\n",
       "1        0.0                              \n",
       "2        0.0                              \n",
       "3  4366273.8                              \n",
       "4   516378.4                              \n",
       "5 43189311.3                              \n",
       "6  9395233.9                              \n",
       "  committed_to_prevention_programs_percent\n",
       "1 0.0000                                  \n",
       "2 0.0000                                  \n",
       "3 0.1439                                  \n",
       "4 0.0136                                  \n",
       "5 0.1965                                  \n",
       "6 0.1521                                  \n",
       "  committed_to_syringe_programs_dollars committed_to_syringe_programs_percent\n",
       "1      0                                0.0000                               \n",
       "2      0                                0.0000                               \n",
       "3      0                                0.0000                               \n",
       "4      0                                0.0000                               \n",
       "5      0                                0.0000                               \n",
       "6 830000                                0.0134                               \n",
       "  committed_to_data_research_dollars committed_to_data_research_percent\n",
       "1        0.0                         0.0000                            \n",
       "2        0.0                         0.0000                            \n",
       "3        0.0                         0.0000                            \n",
       "4 10398087.0                         0.2731                            \n",
       "5  5075240.3                         0.0231                            \n",
       "6   442465.2                         0.0072                            \n",
       "  committed_to_other_dollars committed_to_other_percent\n",
       "1  8500000                   0.8500                    \n",
       "2        0                   0.0000                    \n",
       "3 12730540                   0.4197                    \n",
       "4 10917335                   0.2868                    \n",
       "5 65282737                   0.2970                    \n",
       "6 17874794                   0.2893                    "
      ]
     },
     "metadata": {},
     "output_type": "display_data"
    }
   ],
   "source": [
    "# Opioid Settlement Expenditures-\n",
    "# https://kffhealthnews.org/download-the-data-opioid-settlement-expenditures/\n",
    "# “a first-of-its kind database” tracking how states and local governments are using the billions of dollars received via opioid settlements in recent years\n",
    "# 2022-2023 data\n",
    "\n",
    "# read in csv file\n",
    "provisional_drug_overdose_deaths <- read.csv(\"../data/raw/opioid-settlement-expenditures.csv\") |>\n",
    "\t# make all column names lowercase\n",
    "\trename_with(tolower) |>\n",
    "\t# rename specific columns\n",
    "  rename(\n",
    "\t\tstate_name = state,\n",
    "\t\tfunds_received_dollars = opioid.settlement.funds.received..2022.2023.,\n",
    "    funds_spent_dollars = opioid.settlement.funds.spent.committed..2022.2023.,\n",
    "    funds_set_aside_dollars = opioid.settlement.funds.set.aside.not.committed..2022.2023.,\n",
    "    funds_untrackable_dollars = opioid.settlement.funds.untrackable.via.public.reports..2022.2023.,\n",
    "    committed_to_prevention_dollars = x..committed.to.prevention,\n",
    "    committed_to_prevention_percent = x..prevention,\n",
    "    committed_to_treatment_dollars = x..committed.to.treatment,\n",
    "    committed_to_treatment_percent = x..treatment,\n",
    "    committed_to_recovery_dollars = x..committed.to.recovery,\n",
    "    committed_to_recovery_percent = x..recovery,\n",
    "    committed_to_incarcerated_treatment_dollars = x..committed.to.treatment.for.incarcerated.populations,\n",
    "    committed_to_incarcerated_treatment_percent = x..treatment.for.incarcerated.populations,\n",
    "    committed_to_prevention_programs_dollars = x..committed.to.prevention.programs,\n",
    "    committed_to_prevention_programs_percent = x..prevention.programs,\n",
    "    committed_to_syringe_programs_dollars = x..committed.to.expanding.syringe.service.programs,\n",
    "    committed_to_syringe_programs_percent = x..expanding.syringe.service.programs,\n",
    "    committed_to_data_research_dollars = x..committed.to.data.collection...research,\n",
    "    committed_to_data_research_percent = x..data.collection...research,\n",
    "    committed_to_other_dollars = x..committed.to.other.1,\n",
    "    committed_to_other_percent = x..other.1\n",
    "  ) |>\n",
    "\t# mutate columns to format as numbers and drop special characters\n",
    "\tmutate(across(contains(\"_dollars\"), ~ parse_number(.))) |>\n",
    "\tmutate(across(contains(\"_percent\"), ~ parse_number(.)/100))\n",
    "\n",
    "# display dimensions and first 6 rows\n",
    "dim(provisional_drug_overdose_deaths)\n",
    "head(provisional_drug_overdose_deaths)"
   ]
  },
  {
   "cell_type": "code",
   "execution_count": 38,
   "metadata": {
    "vscode": {
     "languageId": "r"
    }
   },
   "outputs": [],
   "source": [
    "# combining data \n",
    "\n",
    "# head(overdose_deaths_df)\n",
    "# head(opioid_dispensing_df)\n",
    "\n",
    "overdose_deaths_df |> left_join(opioid_dispensing_df, by=c('state_abbrev', 'year')) |>\n",
    "\tselect(-state_name, -state_fips, -opioid_dispensing_bin) |>\n",
    "\twrite_csv('../data/clean/combined.csv')"
   ]
  }
 ],
 "metadata": {
  "kernelspec": {
   "display_name": "R",
   "language": "R",
   "name": "ir"
  },
  "language_info": {
   "codemirror_mode": "r",
   "file_extension": ".r",
   "mimetype": "text/x-r-source",
   "name": "R",
   "pygments_lexer": "r",
   "version": "4.4.2"
  }
 },
 "nbformat": 4,
 "nbformat_minor": 2
}
